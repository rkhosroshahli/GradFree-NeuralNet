{
  "cells": [
    {
      "cell_type": "code",
      "source": [
        "from google.colab import drive\n",
        "drive.mount('/content/drive')"
      ],
      "metadata": {
        "colab": {
          "base_uri": "https://localhost:8080/"
        },
        "id": "16NWr-OWEATN",
        "outputId": "2c0e21fc-dad7-4ba9-962c-dea800bed499"
      },
      "execution_count": 1,
      "outputs": [
        {
          "output_type": "stream",
          "name": "stdout",
          "text": [
            "Mounted at /content/drive\n"
          ]
        }
      ]
    },
    {
      "cell_type": "code",
      "source": [
        "%cd drive/MyDrive/Projects/GradFree-NeuralNet/"
      ],
      "metadata": {
        "colab": {
          "base_uri": "https://localhost:8080/"
        },
        "id": "qn9u5YqiEFPp",
        "outputId": "96deb83e-5620-4c72-f253-28dc717d85c2"
      },
      "execution_count": 3,
      "outputs": [
        {
          "output_type": "stream",
          "name": "stdout",
          "text": [
            "/content/drive/MyDrive/Projects/GradFree-NeuralNet\n"
          ]
        }
      ]
    },
    {
      "cell_type": "code",
      "source": [
        "!pip install pymoo torcheval"
      ],
      "metadata": {
        "id": "0Rq6KGe_ENVH"
      },
      "execution_count": null,
      "outputs": []
    },
    {
      "cell_type": "code",
      "execution_count": 7,
      "metadata": {
        "id": "U8nlBzcND4zd"
      },
      "outputs": [],
      "source": [
        "from src.models import *\n",
        "from src.gfo import GFOProblem, SOCallback, blocker, build_rand_blocks, get_model_params, set_model_state\n",
        "\n",
        "# Train on MNIST\n",
        "import torch\n",
        "import torchvision\n",
        "import torchvision.transforms as transforms\n",
        "from torch.utils.data import DataLoader, Subset\n",
        "from tqdm import tqdm\n",
        "\n",
        "import numpy as np\n",
        "import pandas as pd\n",
        "from sklearn.metrics import (\n",
        "            f1_score,\n",
        "        )\n",
        "import matplotlib.pyplot as plt"
      ]
    },
    {
      "cell_type": "code",
      "execution_count": 8,
      "metadata": {
        "colab": {
          "base_uri": "https://localhost:8080/"
        },
        "id": "gyPxSxlAD4zf",
        "outputId": "11c1a7a1-3d3e-41c3-8cb5-dcda8fa4178d"
      },
      "outputs": [
        {
          "output_type": "stream",
          "name": "stdout",
          "text": [
            "Downloading http://yann.lecun.com/exdb/mnist/train-images-idx3-ubyte.gz\n",
            "Failed to download (trying next):\n",
            "HTTP Error 403: Forbidden\n",
            "\n",
            "Downloading https://ossci-datasets.s3.amazonaws.com/mnist/train-images-idx3-ubyte.gz\n",
            "Downloading https://ossci-datasets.s3.amazonaws.com/mnist/train-images-idx3-ubyte.gz to ./data/MNIST/raw/train-images-idx3-ubyte.gz\n"
          ]
        },
        {
          "output_type": "stream",
          "name": "stderr",
          "text": [
            "100%|██████████| 9912422/9912422 [00:00<00:00, 16025544.55it/s]\n"
          ]
        },
        {
          "output_type": "stream",
          "name": "stdout",
          "text": [
            "Extracting ./data/MNIST/raw/train-images-idx3-ubyte.gz to ./data/MNIST/raw\n",
            "\n",
            "Downloading http://yann.lecun.com/exdb/mnist/train-labels-idx1-ubyte.gz\n",
            "Failed to download (trying next):\n",
            "HTTP Error 403: Forbidden\n",
            "\n",
            "Downloading https://ossci-datasets.s3.amazonaws.com/mnist/train-labels-idx1-ubyte.gz\n",
            "Downloading https://ossci-datasets.s3.amazonaws.com/mnist/train-labels-idx1-ubyte.gz to ./data/MNIST/raw/train-labels-idx1-ubyte.gz\n"
          ]
        },
        {
          "output_type": "stream",
          "name": "stderr",
          "text": [
            "100%|██████████| 28881/28881 [00:00<00:00, 508614.48it/s]\n"
          ]
        },
        {
          "output_type": "stream",
          "name": "stdout",
          "text": [
            "Extracting ./data/MNIST/raw/train-labels-idx1-ubyte.gz to ./data/MNIST/raw\n",
            "\n",
            "Downloading http://yann.lecun.com/exdb/mnist/t10k-images-idx3-ubyte.gz\n",
            "Failed to download (trying next):\n",
            "HTTP Error 403: Forbidden\n",
            "\n",
            "Downloading https://ossci-datasets.s3.amazonaws.com/mnist/t10k-images-idx3-ubyte.gz\n",
            "Downloading https://ossci-datasets.s3.amazonaws.com/mnist/t10k-images-idx3-ubyte.gz to ./data/MNIST/raw/t10k-images-idx3-ubyte.gz\n"
          ]
        },
        {
          "output_type": "stream",
          "name": "stderr",
          "text": [
            "100%|██████████| 1648877/1648877 [00:00<00:00, 4393248.54it/s]\n"
          ]
        },
        {
          "output_type": "stream",
          "name": "stdout",
          "text": [
            "Extracting ./data/MNIST/raw/t10k-images-idx3-ubyte.gz to ./data/MNIST/raw\n",
            "\n",
            "Downloading http://yann.lecun.com/exdb/mnist/t10k-labels-idx1-ubyte.gz\n",
            "Failed to download (trying next):\n",
            "HTTP Error 403: Forbidden\n",
            "\n",
            "Downloading https://ossci-datasets.s3.amazonaws.com/mnist/t10k-labels-idx1-ubyte.gz\n",
            "Downloading https://ossci-datasets.s3.amazonaws.com/mnist/t10k-labels-idx1-ubyte.gz to ./data/MNIST/raw/t10k-labels-idx1-ubyte.gz\n"
          ]
        },
        {
          "output_type": "stream",
          "name": "stderr",
          "text": [
            "100%|██████████| 4542/4542 [00:00<00:00, 3184642.05it/s]\n"
          ]
        },
        {
          "output_type": "stream",
          "name": "stdout",
          "text": [
            "Extracting ./data/MNIST/raw/t10k-labels-idx1-ubyte.gz to ./data/MNIST/raw\n",
            "\n"
          ]
        }
      ],
      "source": [
        "# Load MNIST\n",
        "transform = transforms.Compose(\n",
        "    [transforms.ToTensor(), transforms.Normalize((0.1307,), (0.3081,))]\n",
        ")\n",
        "trainset = torchvision.datasets.MNIST(\n",
        "    root=\"./data\", train=True, download=True, transform=transform\n",
        ")\n",
        "testset = torchvision.datasets.MNIST(\n",
        "    root=\"./data\", train=False, download=True, transform=transform\n",
        ")\n",
        "train_loader = DataLoader(trainset, batch_size=128, shuffle=True)\n",
        "test_loader = DataLoader(testset, batch_size=10000, shuffle=False)"
      ]
    },
    {
      "cell_type": "code",
      "execution_count": 9,
      "metadata": {
        "id": "ZI2IkhowD4zf"
      },
      "outputs": [],
      "source": [
        "def test(model, test_loader, criterion, device):\n",
        "    model.eval()\n",
        "    total_loss = 0\n",
        "    correct = 0\n",
        "    f1 = 0\n",
        "    with torch.no_grad():\n",
        "        for data, target in test_loader:\n",
        "            data, target = data.to(device), target.to(device)\n",
        "            output = model(data)\n",
        "            loss = criterion(output, target)\n",
        "            total_loss += loss.item()\n",
        "            pred = output.argmax(dim=1)\n",
        "            correct += pred.eq(target.view_as(pred)).sum().item()\n",
        "            f1 += f1_score(target.view_as(pred).cpu().numpy(), pred.cpu().numpy(), average='macro')\n",
        "\n",
        "\n",
        "    return total_loss / len(test_loader), correct / len(test_loader.dataset), f1 / len(test_loader)"
      ]
    },
    {
      "cell_type": "code",
      "execution_count": null,
      "metadata": {
        "colab": {
          "base_uri": "https://localhost:8080/"
        },
        "id": "iwQ0TvvjD4zg",
        "outputId": "422f6c07-3f9a-41f4-9279-aac818cfc9ff"
      },
      "outputs": [
        {
          "output_type": "stream",
          "name": "stdout",
          "text": [
            "Original dims: 61706 D\n",
            "Blocked dims: 618 D\n",
            "{'F': array([0.98253968, 0.98823529])}\n",
            "============================================================================================================================================\n",
            "n_gen  |  n_eval  |     f_avg     |     f_min     |     f_gap     | run  |   fpop   | n_pop |     sigma     | min_std  | max_std  |   axis  \n",
            "============================================================================================================================================\n",
            "     1 |        1 |  0.9770992380 |  0.9770992380 |  0.9770992380 |    1 |  0.97710 |    23 |  0.1000000000 |  0.10000 |  0.10000 |  1.00005\n",
            "     2 |       24 |  0.9657621496 |  0.9093007594 |  0.9093007594 |    1 |  0.90930 |    23 |  0.0988621985 |  0.09886 |  0.09887 |  1.00005\n",
            "     3 |       47 |  0.9621811511 |  0.9093007594 |  0.9093007594 |    1 |  0.91134 |    23 |  0.0978278656 |  0.09782 |  0.09784 |  1.00005\n",
            "     4 |       70 |  0.9509802921 |  0.9069771990 |  0.9069771990 |    1 |  0.90698 |    23 |  0.0968710128 |  0.09686 |  0.09688 |  1.00005\n",
            "     5 |       93 |  0.9492612824 |  0.8987414911 |  0.8987414911 |    1 |  0.89874 |    23 |  0.0959964482 |  0.09599 |  0.09601 |  1.00005\n",
            "     6 |      116 |  0.9480148951 |  0.8574773967 |  0.8574773967 |    1 |  0.85748 |    23 |  0.0951711983 |  0.09516 |  0.09518 |  1.00005\n",
            "     7 |      139 |  0.9327218247 |  0.8448543251 |  0.8448543251 |    1 |  0.84485 |    23 |  0.0944094368 |  0.09440 |  0.09442 |  1.00459\n",
            "     8 |      162 |  0.9249092503 |  0.8448543251 |  0.8448543251 |    1 |  0.86818 |    23 |  0.0936754389 |  0.09367 |  0.09369 |  1.00459\n",
            "     9 |      185 |  0.9155542152 |  0.8334807307 |  0.8334807307 |    1 |  0.83348 |    23 |  0.0929791815 |  0.09297 |  0.09299 |  1.00459\n",
            "    10 |      208 |  0.9080872992 |  0.8334807307 |  0.8334807307 |    1 |  0.85638 |    23 |  0.0923312105 |  0.09232 |  0.09234 |  1.00459\n",
            "    11 |      231 |  0.9197865295 |  0.8334807307 |  0.8334807307 |    1 |  0.84797 |    23 |  0.0917015696 |  0.09169 |  0.09171 |  1.00459\n",
            "    12 |      254 |  0.9090072279 |  0.8334807307 |  0.8334807307 |    1 |  0.84272 |    23 |  0.0910948833 |  0.09108 |  0.09111 |  1.00459\n",
            "    13 |      277 |  0.9108044078 |  0.8334807307 |  0.8334807307 |    1 |  0.87099 |    23 |  0.0905053354 |  0.09049 |  0.09052 |  1.00537\n",
            "    14 |      300 |  0.9061569551 |  0.8334807307 |  0.8334807307 |    1 |  0.84121 |    23 |  0.0899353691 |  0.08992 |  0.08995 |  1.00537\n",
            "    15 |      323 |  0.8730081796 |  0.8116677403 |  0.8116677403 |    1 |  0.81167 |    23 |  0.0893934595 |  0.08938 |  0.08940 |  1.00537\n",
            "    16 |      346 |  0.8974210881 |  0.8116677403 |  0.8116677403 |    1 |  0.83996 |    23 |  0.0888587262 |  0.08885 |  0.08887 |  1.00537\n",
            "    17 |      369 |  0.8994477713 |  0.7614737451 |  0.7614737451 |    1 |  0.76147 |    23 |  0.0883474687 |  0.08833 |  0.08836 |  1.00537\n",
            "    18 |      392 |  0.8893815143 |  0.7614737451 |  0.7614737451 |    1 |  0.78266 |    23 |  0.0878690763 |  0.08785 |  0.08788 |  1.00537\n",
            "    19 |      415 |  0.8876406081 |  0.7614737451 |  0.7614737451 |    1 |  0.80261 |    23 |  0.0874149864 |  0.08740 |  0.08743 |  1.00684\n",
            "    20 |      438 |  0.8831842038 |  0.7614737451 |  0.7614737451 |    1 |  0.78944 |    23 |  0.0869881511 |  0.08697 |  0.08700 |  1.00684\n",
            "    21 |      461 |  0.8634529240 |  0.7614737451 |  0.7614737451 |    1 |  0.79608 |    23 |  0.0865813274 |  0.08657 |  0.08659 |  1.00684\n",
            "    22 |      484 |  0.8797963093 |  0.7614737451 |  0.7614737451 |    1 |  0.82733 |    23 |  0.0861968427 |  0.08618 |  0.08621 |  1.00684\n",
            "    23 |      507 |  0.8607921958 |  0.7614737451 |  0.7614737451 |    1 |  0.78152 |    23 |  0.0858306894 |  0.08581 |  0.08584 |  1.00684\n",
            "    24 |      530 |  0.8588182599 |  0.7614737451 |  0.7614737451 |    1 |  0.77823 |    23 |  0.0854825474 |  0.08546 |  0.08550 |  1.00684\n",
            "    25 |      553 |  0.8434538469 |  0.7614737451 |  0.7614737451 |    1 |  0.76155 |    23 |  0.0851520958 |  0.08513 |  0.08516 |  1.00887\n",
            "    26 |      576 |  0.8755871577 |  0.7585317343 |  0.7585317343 |    1 |  0.75853 |    23 |  0.0848301979 |  0.08481 |  0.08484 |  1.00887\n",
            "    27 |      599 |  0.8356387541 |  0.7585317343 |  0.7585317343 |    1 |  0.77688 |    23 |  0.0845174566 |  0.08450 |  0.08453 |  1.00887\n",
            "    28 |      622 |  0.8444248959 |  0.7585317343 |  0.7585317343 |    1 |  0.76359 |    23 |  0.0842135222 |  0.08420 |  0.08423 |  1.00887\n",
            "    29 |      645 |  0.8468572118 |  0.7495526373 |  0.7495526373 |    1 |  0.74955 |    23 |  0.0839117300 |  0.08389 |  0.08392 |  1.00887\n",
            "    30 |      668 |  0.8331895199 |  0.7407124937 |  0.7407124937 |    1 |  0.74071 |    23 |  0.0836108402 |  0.08359 |  0.08362 |  1.00887\n",
            "    31 |      691 |  0.8305333386 |  0.7407124937 |  0.7407124937 |    1 |  0.76663 |    23 |  0.0833218276 |  0.08330 |  0.08333 |  1.01124\n",
            "    32 |      714 |  0.8451925257 |  0.7407124937 |  0.7407124937 |    1 |  0.76132 |    23 |  0.0830479839 |  0.08303 |  0.08306 |  1.01124\n",
            "    33 |      737 |  0.8377650121 |  0.7407124937 |  0.7407124937 |    1 |  0.78632 |    23 |  0.0827968007 |  0.08278 |  0.08281 |  1.01124\n",
            "    34 |      760 |  0.8634408024 |  0.7407124937 |  0.7407124937 |    1 |  0.80125 |    23 |  0.0825485750 |  0.08253 |  0.08256 |  1.01124\n",
            "    35 |      783 |  0.8530462005 |  0.7300762236 |  0.7300762236 |    1 |  0.73008 |    23 |  0.0823031823 |  0.08228 |  0.08231 |  1.01124\n",
            "    36 |      806 |  0.8628380188 |  0.7300762236 |  0.7300762236 |    1 |  0.78527 |    23 |  0.0820670997 |  0.08205 |  0.08208 |  1.01124\n",
            "    37 |      829 |  0.8155932533 |  0.7300762236 |  0.7300762236 |    1 |  0.73374 |    23 |  0.0818349258 |  0.08181 |  0.08185 |  1.01402\n",
            "    38 |      852 |  0.8391040100 |  0.7300762236 |  0.7300762236 |    1 |  0.76553 |    23 |  0.0816066160 |  0.08159 |  0.08162 |  1.01402\n",
            "    39 |      875 |  0.8494494833 |  0.7300762236 |  0.7300762236 |    1 |  0.78385 |    23 |  0.0813852750 |  0.08136 |  0.08140 |  1.01402\n",
            "    40 |      898 |  0.8300672293 |  0.7300762236 |  0.7300762236 |    1 |  0.77049 |    23 |  0.0811843709 |  0.08116 |  0.08120 |  1.01402\n",
            "    41 |      921 |  0.8410073415 |  0.7300762236 |  0.7300762236 |    1 |  0.76653 |    23 |  0.0809763315 |  0.08095 |  0.08099 |  1.01402\n",
            "    42 |      944 |  0.8253179157 |  0.7300762236 |  0.7300762236 |    1 |  0.75516 |    23 |  0.0807717100 |  0.08075 |  0.08078 |  1.01402\n"
          ]
        }
      ],
      "source": [
        "from pymoo.algorithms.soo.nonconvex.cmaes import CMAES\n",
        "from pymoo.optimize import minimize\n",
        "import os\n",
        "import pickle\n",
        "\n",
        "torch.manual_seed(1)\n",
        "np.random.seed(seed=1)\n",
        "# Parameter Setting\n",
        "NP = 100\n",
        "block_size = 100\n",
        "# Define model\n",
        "model = LeNet(in_channels=1)\n",
        "device = torch.device(\"cuda\" if torch.cuda.is_available() else \"cpu\")\n",
        "model.to(device)\n",
        "\n",
        "init_params = get_model_params(model)\n",
        "D = len(init_params)\n",
        "print(f\"Original dims: {D} D\")\n",
        "\n",
        "\n",
        "\n",
        "codebook = {}\n",
        "if os.path.exists(f'out/codebook_D{D}_blocksize{block_size}.pkl'):\n",
        "    with open(f'out/codebook_D{D}_blocksize{block_size}.pkl', 'rb') as f:\n",
        "        codebook = pickle.load(f)\n",
        "else:\n",
        "    codebook = build_rand_blocks(D, block_size=block_size)\n",
        "\n",
        "    with open(f'out/codebook_D{D}_blocksize{block_size}.pkl', 'wb') as f:\n",
        "        pickle.dump(codebook, f)\n",
        "\n",
        "bD = len(codebook)\n",
        "print(f\"Blocked dims: {bD} D\")\n",
        "x0 = np.random.uniform(low=-5, high=5, size=(bD))\n",
        "init_params = blocker(init_params, codebook)\n",
        "# x0 = init_params.copy()\n",
        "# init_pop = np.random.normal(loc=init_params, scale=0.1, size=(NP, bD))\n",
        "\n",
        "# random_indices = np.random.choice(\n",
        "#             np.arange(len(trainset)), size=1024, replace=False\n",
        "#         )\n",
        "# random_dataset = Subset(trainset, random_indices)\n",
        "# data_loader = DataLoader(random_dataset, batch_size=128, shuffle=True)\n",
        "data_loader = DataLoader(trainset, batch_size=128, shuffle=True)\n",
        "problem = GFOProblem(n_var=bD, model=model, dataset=trainset, test_loader=test_loader, train_loader=data_loader,\n",
        "                      set_model_state=set_model_state,\n",
        "                      batch_size=256, device=device, criterion=\"f1\",\n",
        "                      block=True, codebook=codebook, orig_dims=D)\n",
        "out={\"F\": []}\n",
        "problem._evaluate(np.array([x0, init_params]), out=out)\n",
        "print(out)\n",
        "\n",
        "csv_path = f\"out/LeNet_block_bs{block_size}_gfo_f1_cmaes_restart5_hist.csv\"\n",
        "plt_path = f\"out/LeNet_block_bs{block_size}_gfo_f1_cmaes_restart5_plt.pdf\"\n",
        "df = pd.DataFrame({\n",
        "            'n_step': [0],\n",
        "            'n_eval': [1],\n",
        "            'f_best': [out[\"F\"][0]],\n",
        "            'f_avg': [out[\"F\"][0]],\n",
        "            'f_std': [0],\n",
        "            'test_f1_best': problem.test_func(x0),\n",
        "        })\n",
        "df.to_csv(csv_path, index=False)\n",
        "\n",
        "batch_size = 128\n",
        "restarts = 10\n",
        "best_x0 = x0\n",
        "sigma = 0.1\n",
        "for i in range(restarts):\n",
        "    # data_loader = DataLoader(trainset, batch_size=batch_size, shuffle=True)\n",
        "    problem = GFOProblem(n_var=bD, model=model, dataset=trainset, test_loader=test_loader, train_loader=None,\n",
        "                          set_model_state=set_model_state, batch_size=batch_size, device=device, criterion=\"f1\",\n",
        "                          block=True, codebook=codebook, orig_dims=D)\n",
        "    algorithm = CMAES(\n",
        "        x0=best_x0,\n",
        "        sigma=sigma,\n",
        "    )\n",
        "\n",
        "    res = minimize(problem,\n",
        "                  algorithm,\n",
        "                  ('n_eval', 10000),\n",
        "                  callback=SOCallback(k_steps=100, csv_path=csv_path, plt_path=plt_path),\n",
        "                  seed=1,\n",
        "                  verbose=True)\n",
        "\n",
        "    print(\"Restart optimizer #:\", i+1)\n",
        "\n",
        "    best_x0 = res.X.copy()\n",
        "    sigma *= 0.5\n",
        "    batch_size *= 2\n",
        "\n",
        "\n",
        "print(\"Best solution found: \\nX = %s\\nF = %s\" % (res.X, res.F))"
      ]
    },
    {
      "cell_type": "code",
      "execution_count": 33,
      "metadata": {
        "id": "EUeBREivD4zh"
      },
      "outputs": [],
      "source": [
        "# Save the best solution model parameters state\n",
        "best_X = res.X.copy()\n",
        "if len(res.X) != D:\n",
        "    best_X = problem.unblocker(best_X)\n",
        "set_model_state(model, best_X)\n",
        "torch.save(model.state_dict(), f\"out/LeNet_MNIST_block_bs{block_size}_gfo_f1_cmaes_restart5_model.pth\")"
      ]
    },
    {
      "cell_type": "code",
      "source": [
        "res.X.min()"
      ],
      "metadata": {
        "colab": {
          "base_uri": "https://localhost:8080/"
        },
        "id": "gfmu0fZzduIe",
        "outputId": "cb782100-e3cc-4120-9ea9-ff478c0dc3bc"
      },
      "execution_count": 34,
      "outputs": [
        {
          "output_type": "execute_result",
          "data": {
            "text/plain": [
              "-4.999990342805474"
            ]
          },
          "metadata": {},
          "execution_count": 34
        }
      ]
    },
    {
      "cell_type": "code",
      "source": [
        "res.X.max()"
      ],
      "metadata": {
        "colab": {
          "base_uri": "https://localhost:8080/"
        },
        "id": "wTC0FDbMfTz1",
        "outputId": "82751781-69ca-482d-b4d0-b127c19cefc8"
      },
      "execution_count": 35,
      "outputs": [
        {
          "output_type": "execute_result",
          "data": {
            "text/plain": [
              "4.99994931336378"
            ]
          },
          "metadata": {},
          "execution_count": 35
        }
      ]
    },
    {
      "cell_type": "code",
      "source": [
        "criterion = torch.nn.CrossEntropyLoss()"
      ],
      "metadata": {
        "id": "A70eCIudf3sQ"
      },
      "execution_count": 36,
      "outputs": []
    },
    {
      "cell_type": "code",
      "source": [
        "test(model, test_loader=test_loader, criterion=criterion, device=device)"
      ],
      "metadata": {
        "colab": {
          "base_uri": "https://localhost:8080/"
        },
        "id": "v4lNmhmTfWEy",
        "outputId": "1a09a46a-e134-4d28-f981-fe01cf26c17a"
      },
      "execution_count": 37,
      "outputs": [
        {
          "output_type": "execute_result",
          "data": {
            "text/plain": [
              "(3497541.75, 0.5265, 0.5261534598171034)"
            ]
          },
          "metadata": {},
          "execution_count": 37
        }
      ]
    },
    {
      "cell_type": "code",
      "source": [],
      "metadata": {
        "id": "vbYugJw1kwUT"
      },
      "execution_count": null,
      "outputs": []
    }
  ],
  "metadata": {
    "kernelspec": {
      "display_name": "Python 3",
      "name": "python3"
    },
    "language_info": {
      "codemirror_mode": {
        "name": "ipython",
        "version": 3
      },
      "file_extension": ".py",
      "mimetype": "text/x-python",
      "name": "python",
      "nbconvert_exporter": "python",
      "pygments_lexer": "ipython3",
      "version": "3.11.7"
    },
    "colab": {
      "provenance": [],
      "gpuType": "T4"
    },
    "accelerator": "GPU"
  },
  "nbformat": 4,
  "nbformat_minor": 0
}